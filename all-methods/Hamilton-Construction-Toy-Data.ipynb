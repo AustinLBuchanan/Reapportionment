{
 "cells": [
  {
   "cell_type": "code",
   "execution_count": 1,
   "metadata": {},
   "outputs": [
    {
     "name": "stdout",
     "output_type": "stream",
     "text": [
      "Populations: [27744, 25178, 19951, 14610, 9225, 3292]\n",
      "Quotas: [9.98784, 9.06408, 7.18236, 5.2596, 3.321, 1.18512]\n"
     ]
    }
   ],
   "source": [
    "# (hypothetical) state populations\n",
    "p = [27744, 25178, 19951, 14610, 9225, 3292]\n",
    "\n",
    "# number of states\n",
    "n = len(p)\n",
    "\n",
    "# total country population\n",
    "p_total = sum( p[i] for i in range(n) )\n",
    "\n",
    "# total number of seats to distribute\n",
    "k = 36\n",
    "\n",
    "# state quotas\n",
    "q = [ k * p[i] / p_total for i in range(n) ]\n",
    "\n",
    "print(\"Populations:\",p)\n",
    "print(\"Quotas:\",q)"
   ]
  },
  {
   "cell_type": "code",
   "execution_count": 3,
   "metadata": {},
   "outputs": [
    {
     "name": "stdout",
     "output_type": "stream",
     "text": [
      "Seats apportioned (so far): [9, 9, 7, 5, 3, 1]\n",
      "Total: 34 of 36\n",
      "Remaing seats to apportion: 2\n"
     ]
    }
   ],
   "source": [
    "import math\n",
    "\n",
    "# Hamilton's method begins with the quota floors\n",
    "x = [ math.floor( q[i] ) for i in range(n) ]\n",
    "\n",
    "print( \"Seats apportioned (so far):\", x )\n",
    "print( \"Total:\", sum(x), \"of\", k )\n",
    "print( \"Remaing seats to apportion:\", k - sum(x) )"
   ]
  },
  {
   "cell_type": "code",
   "execution_count": 4,
   "metadata": {},
   "outputs": [
    {
     "name": "stdout",
     "output_type": "stream",
     "text": [
      "[0.9878400000000003, 0.06408000000000058, 0.18236000000000008, 0.25959999999999983, 0.3210000000000002, 0.18511999999999995]\n"
     ]
    }
   ],
   "source": [
    "# How much quota is left for each state?\n",
    "q_remaining = [ q[i] - x[i] for i in range(n) ]\n",
    "\n",
    "print(q_remaining)"
   ]
  },
  {
   "cell_type": "code",
   "execution_count": 5,
   "metadata": {},
   "outputs": [
    {
     "name": "stdout",
     "output_type": "stream",
     "text": [
      "[(1, 0.06408000000000058), (2, 0.18236000000000008), (5, 0.18511999999999995), (3, 0.25959999999999983), (4, 0.3210000000000002), (0, 0.9878400000000003)]\n"
     ]
    }
   ],
   "source": [
    "# function used for sorting purposes\n",
    "def sort_by_second(val):\n",
    "    return val[1]\n",
    "\n",
    "states_and_remaining_quotas = [ (i, q_remaining[i] ) for i in range(n) ]\n",
    "states_and_remaining_quotas.sort(key=sort_by_second)\n",
    "\n",
    "print(states_and_remaining_quotas)"
   ]
  },
  {
   "cell_type": "code",
   "execution_count": 6,
   "metadata": {},
   "outputs": [
    {
     "name": "stdout",
     "output_type": "stream",
     "text": [
      "Adding a seat to 0 whose remaining quota is 0.9878400000000003\n",
      "Adding a seat to 4 whose remaining quota is 0.3210000000000002\n",
      "Final apportionment: [10, 9, 7, 5, 4, 1]\n"
     ]
    }
   ],
   "source": [
    "# distribute remaining seats to states with largest remaining quotas\n",
    "while k > sum(x):\n",
    "    (i,rq) = states_and_remaining_quotas.pop()\n",
    "    print(\"Adding a seat to\",i,\"whose remaining quota is\",rq)\n",
    "    x[i] += 1\n",
    "\n",
    "print(\"Final apportionment:\",x)"
   ]
  },
  {
   "cell_type": "code",
   "execution_count": null,
   "metadata": {},
   "outputs": [],
   "source": []
  }
 ],
 "metadata": {
  "kernelspec": {
   "display_name": "Python 3",
   "language": "python",
   "name": "python3"
  },
  "language_info": {
   "codemirror_mode": {
    "name": "ipython",
    "version": 3
   },
   "file_extension": ".py",
   "mimetype": "text/x-python",
   "name": "python",
   "nbconvert_exporter": "python",
   "pygments_lexer": "ipython3",
   "version": "3.7.10"
  }
 },
 "nbformat": 4,
 "nbformat_minor": 4
}
