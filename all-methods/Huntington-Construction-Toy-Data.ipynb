{
 "cells": [
  {
   "cell_type": "code",
   "execution_count": 1,
   "metadata": {},
   "outputs": [
    {
     "name": "stdout",
     "output_type": "stream",
     "text": [
      "Populations: [27744, 25178, 19951, 14610, 9225, 3292]\n",
      "Quotas: [9.98784, 9.06408, 7.18236, 5.2596, 3.321, 1.18512]\n"
     ]
    }
   ],
   "source": [
    "# (hypothetical) state populations\n",
    "p = [27744, 25178, 19951, 14610, 9225, 3292]\n",
    "\n",
    "# number of states\n",
    "n = len(p)\n",
    "\n",
    "# total country population\n",
    "p_total = sum( p[i] for i in range(n) )\n",
    "\n",
    "# total number of seats to distribute\n",
    "k = 36\n",
    "\n",
    "# state quotas\n",
    "q = [ k * p[i] / p_total for i in range(n) ]\n",
    "\n",
    "print(\"Populations:\",p)\n",
    "print(\"Quotas:\",q)"
   ]
  },
  {
   "cell_type": "code",
   "execution_count": 2,
   "metadata": {},
   "outputs": [],
   "source": [
    "import math\n",
    "\n",
    "# What is the priority score for a state to get a given seat?\n",
    "def seat_priority(state_population, seat_number):\n",
    "    if seat_number == 1:\n",
    "        return float('inf')\n",
    "    elif seat_number>=2 and isinstance(seat_number,int):\n",
    "        return state_population / math.sqrt(seat_number*(seat_number-1))\n",
    "    else:\n",
    "        print(\"ERROR: not allowed to have seat_number =\",seat_number)"
   ]
  },
  {
   "cell_type": "code",
   "execution_count": 3,
   "metadata": {},
   "outputs": [
    {
     "name": "stdout",
     "output_type": "stream",
     "text": [
      "How important is it for:\n",
      "  state 0 to get its 1st seat? inf\n",
      "  state 0 to get its 2nd seat? 19617.970537239573\n",
      "  state 1 to get its 2nd seat? 17803.53453671489\n"
     ]
    }
   ],
   "source": [
    "print(\"How important is it for:\")\n",
    "print(\"  state\",0,\"to get its 1st seat?\",seat_priority(p[0],1) )\n",
    "print(\"  state\",0,\"to get its 2nd seat?\",seat_priority(p[0],2) )\n",
    "print(\"  state\",1,\"to get its 2nd seat?\",seat_priority(p[1],2) )"
   ]
  },
  {
   "cell_type": "code",
   "execution_count": 4,
   "metadata": {},
   "outputs": [],
   "source": [
    "# M = an upper bound on # seats a state could get\n",
    "M = 12 \n",
    "\n",
    "# triples: (state name, seat number, priority of this seat)\n",
    "state_seat_priority = [ (state, seat, seat_priority(p[state], seat) ) for state in range(n) for seat in range(1,M+1) ]"
   ]
  },
  {
   "cell_type": "code",
   "execution_count": 5,
   "metadata": {},
   "outputs": [],
   "source": [
    "def sort_by_third(val):\n",
    "    return val[2]\n",
    "\n",
    "state_seat_priority.sort(key=sort_by_third,reverse=True)"
   ]
  },
  {
   "cell_type": "code",
   "execution_count": 6,
   "metadata": {},
   "outputs": [
    {
     "name": "stdout",
     "output_type": "stream",
     "text": [
      "# 1 (0, 1, inf)\n",
      "# 2 (1, 1, inf)\n",
      "# 3 (2, 1, inf)\n",
      "# 4 (3, 1, inf)\n",
      "# 5 (4, 1, inf)\n",
      "# 6 (5, 1, inf)\n",
      "# 7 (0, 2, 19617.970537239573)\n",
      "# 8 (1, 2, 17803.53453671489)\n",
      "# 9 (2, 2, 14107.487391452809)\n",
      "# 10 (0, 3, 11326.440570629416)\n",
      "# 11 (3, 2, 10330.83007313546)\n",
      "# 12 (1, 3, 10278.875457299144)\n",
      "# 13 (2, 3, 8144.961643044532)\n",
      "# 14 (0, 4, 8009.002934198489)\n",
      "# 15 (1, 4, 7268.2625388281995)\n",
      "# 16 (4, 2, 6523.0600564459)\n",
      "# 17 (0, 5, 6203.746996775416)\n",
      "# 18 (3, 3, 5964.507523677039)\n",
      "# 19 (2, 4, 5759.357610301112)\n",
      "# 20 (1, 5, 5629.97195374897)\n",
      "# 21 (0, 6, 5065.338211807776)\n",
      "# 22 (1, 6, 4596.852850955024)\n",
      "# 23 (2, 5, 4461.179221909831)\n",
      "# 24 (0, 7, 4280.992141348278)\n",
      "# 25 (3, 4, 4217.543716430217)\n",
      "# 26 (1, 7, 3885.04974534555)\n",
      "# 27 (4, 3, 3766.0904795291367)\n",
      "# 28 (0, 8, 3707.447947809151)\n",
      "# 29 (2, 6, 3642.5375815951897)\n",
      "# 30 (1, 8, 3364.5517744355107)\n",
      "# 31 (0, 9, 3269.6617562065962)\n",
      "# 32 (3, 5, 3266.8953151271926)\n",
      "# 33 (2, 7, 3078.506135093696)\n",
      "# 34 (1, 9, 2967.2557561191493)\n",
      "# 35 (0, 10, 2924.4743801237173)\n",
      "# 36 (3, 6, 2667.4088550501588)\n"
     ]
    }
   ],
   "source": [
    "# print the k seats, by priority\n",
    "for j in range(k):\n",
    "    print(\"#\",j+1,state_seat_priority[j])"
   ]
  },
  {
   "cell_type": "code",
   "execution_count": 7,
   "metadata": {},
   "outputs": [
    {
     "name": "stdout",
     "output_type": "stream",
     "text": [
      "# 37 (2, 8, 2666.0645186973893)\n",
      "# 38 (4, 4, 2663.028116637149)\n",
      "# 39 (1, 10, 2653.994230923982)\n",
      "# 40 (0, 11, 2645.2866076029713)\n",
      "# 41 (0, 12, 2414.8052434174406)\n"
     ]
    }
   ],
   "source": [
    "# If there were 5 more seats to give, who would get them?\n",
    "for j in range(k,k+5):\n",
    "    print(\"#\",j+1,state_seat_priority[j])"
   ]
  },
  {
   "cell_type": "code",
   "execution_count": 8,
   "metadata": {},
   "outputs": [
    {
     "name": "stdout",
     "output_type": "stream",
     "text": [
      "Huntington-Hill apportionment: [10, 9, 7, 6, 3, 1]\n"
     ]
    }
   ],
   "source": [
    "# How many seats does each state get?\n",
    "x = [ 0 for i in range(n) ]\n",
    "for j in range(k):\n",
    "    (state,seat,priority) = state_seat_priority[j]\n",
    "    x[state] = seat\n",
    "    \n",
    "print( \"Huntington-Hill apportionment:\", x )"
   ]
  }
 ],
 "metadata": {
  "kernelspec": {
   "display_name": "Python 3",
   "language": "python",
   "name": "python3"
  },
  "language_info": {
   "codemirror_mode": {
    "name": "ipython",
    "version": 3
   },
   "file_extension": ".py",
   "mimetype": "text/x-python",
   "name": "python",
   "nbconvert_exporter": "python",
   "pygments_lexer": "ipython3",
   "version": "3.7.10"
  }
 },
 "nbformat": 4,
 "nbformat_minor": 4
}
