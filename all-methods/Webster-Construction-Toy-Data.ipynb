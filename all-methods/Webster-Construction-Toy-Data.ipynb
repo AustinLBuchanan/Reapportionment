{
 "cells": [
  {
   "cell_type": "code",
   "execution_count": 1,
   "metadata": {},
   "outputs": [
    {
     "name": "stdout",
     "output_type": "stream",
     "text": [
      "Populations: [27744, 25178, 19951, 14610, 9225, 3292]\n",
      "Quotas: [9.98784, 9.06408, 7.18236, 5.2596, 3.321, 1.18512]\n"
     ]
    }
   ],
   "source": [
    "# (hypothetical) state populations\n",
    "p = [27744, 25178, 19951, 14610, 9225, 3292]\n",
    "\n",
    "# number of states\n",
    "n = len(p)\n",
    "\n",
    "# total country population\n",
    "p_total = sum( p[i] for i in range(n) )\n",
    "\n",
    "# total number of seats to distribute\n",
    "k = 36\n",
    "\n",
    "# state quotas\n",
    "q = [ k * p[i] / p_total for i in range(n) ]\n",
    "\n",
    "print(\"Populations:\",p)\n",
    "print(\"Quotas:\",q)"
   ]
  },
  {
   "cell_type": "code",
   "execution_count": 2,
   "metadata": {},
   "outputs": [
    {
     "name": "stdout",
     "output_type": "stream",
     "text": [
      "With divisor 2777.777777777778 Webster gives apportionment: [10, 9, 7, 5, 3, 1]\n",
      "Need to distribute this many more seats: 1\n"
     ]
    }
   ],
   "source": [
    "# First, let's try the usual divisor\n",
    "d = p_total / k\n",
    "\n",
    "import math\n",
    "\n",
    "# Webster's method is to divide the populations by d, and then round to the nearest integer\n",
    "x = [ math.ceil( p[i] / d - 0.5 ) for i in range(n) ]\n",
    "\n",
    "print( \"With divisor\", d, \"Webster gives apportionment:\", x )\n",
    "print( \"Need to distribute this many more seats:\", k - sum(x) )"
   ]
  },
  {
   "cell_type": "code",
   "execution_count": 3,
   "metadata": {},
   "outputs": [
    {
     "name": "stdout",
     "output_type": "stream",
     "text": [
      "With divisor 2657.777777777778 Webster gives apportionment: [10, 9, 8, 5, 3, 1]\n",
      "Need to distribute this many more seats: 0\n"
     ]
    }
   ],
   "source": [
    "# Webster's method says to adjust the divisor so that rounding to the nearest integer gives exactly k seats.\n",
    "\n",
    "# With binary search, we can find a \"Goldilocks\" value for the divisor of\n",
    "d = p_total / k - 120\n",
    "\n",
    "x = [ math.ceil( p[i] / d - 0.5 ) for i in range(n) ]\n",
    "\n",
    "print( \"With divisor\", d, \"Webster gives apportionment:\", x )\n",
    "print( \"Need to distribute this many more seats:\", k - sum(x) )"
   ]
  }
 ],
 "metadata": {
  "kernelspec": {
   "display_name": "Python 3",
   "language": "python",
   "name": "python3"
  },
  "language_info": {
   "codemirror_mode": {
    "name": "ipython",
    "version": 3
   },
   "file_extension": ".py",
   "mimetype": "text/x-python",
   "name": "python",
   "nbconvert_exporter": "python",
   "pygments_lexer": "ipython3",
   "version": "3.7.10"
  }
 },
 "nbformat": 4,
 "nbformat_minor": 4
}
