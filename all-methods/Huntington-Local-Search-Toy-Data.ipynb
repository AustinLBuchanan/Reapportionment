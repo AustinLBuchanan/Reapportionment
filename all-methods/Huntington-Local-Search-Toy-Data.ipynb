{
 "cells": [
  {
   "cell_type": "code",
   "execution_count": 1,
   "metadata": {},
   "outputs": [
    {
     "name": "stdout",
     "output_type": "stream",
     "text": [
      "Populations: [27744, 25178, 19951, 14610, 9225, 3292]\n",
      "Quotas: [9.98784, 9.06408, 7.18236, 5.2596, 3.321, 1.18512]\n"
     ]
    }
   ],
   "source": [
    "# (hypothetical) state populations\n",
    "p = [27744, 25178, 19951, 14610, 9225, 3292]\n",
    "\n",
    "# number of states\n",
    "n = len(p)\n",
    "\n",
    "# total country population\n",
    "p_total = sum( p[i] for i in range(n) )\n",
    "\n",
    "# total number of seats to distribute\n",
    "k = 36\n",
    "\n",
    "# state quotas\n",
    "q = [ k * p[i] / p_total for i in range(n) ]\n",
    "\n",
    "print(\"Populations:\",p)\n",
    "print(\"Quotas:\",q)"
   ]
  },
  {
   "cell_type": "code",
   "execution_count": 2,
   "metadata": {},
   "outputs": [],
   "source": [
    "# What answer should we get with Huntington's method?\n",
    "optimal =  [10, 9, 7, 6, 3, 1]"
   ]
  },
  {
   "cell_type": "code",
   "execution_count": 3,
   "metadata": {},
   "outputs": [],
   "source": [
    "# An arbitrary initial solution (with all positive entries to avoid division by zero)\n",
    "x = [ k-n+1, 1, 1, 1, 1, 1 ]"
   ]
  },
  {
   "cell_type": "code",
   "execution_count": 4,
   "metadata": {},
   "outputs": [
    {
     "name": "stdout",
     "output_type": "stream",
     "text": [
      "current inequality: 27.13285755478662\n",
      "inequality after transfer: 12.612673010380623\n"
     ]
    }
   ],
   "source": [
    "# Is it desirable to move a seat from state 0 to state 1?\n",
    "\n",
    "# How much representational \"inequality\" is there between states 0 and 1?\n",
    "current = ( x[0] / p[0] ) / ( x[1] / p[1] ) - 1\n",
    "print( \"current inequality:\", current )\n",
    "\n",
    "# How much representational \"inequality\" would there be if a seat was moved from state 0 to state 1?\n",
    "after = ( ( x[0] - 1 ) / p[0] ) / ( ( x[1] + 1 ) / p[1] ) - 1\n",
    "print( \"inequality after transfer:\", after )"
   ]
  },
  {
   "cell_type": "code",
   "execution_count": 5,
   "metadata": {},
   "outputs": [
    {
     "name": "stdout",
     "output_type": "stream",
     "text": [
      "[30, 2, 1, 1, 1, 1]\n"
     ]
    }
   ],
   "source": [
    "# this is an improvement, so transfer the seat\n",
    "x[0] -= 1\n",
    "x[1] += 1\n",
    "print(x)"
   ]
  },
  {
   "cell_type": "code",
   "execution_count": 6,
   "metadata": {},
   "outputs": [],
   "source": [
    "# This function will be important, because the representational inequality \n",
    "#   for Huntington is only defined when x[i] / p[i] > x[j] > p[j].\n",
    "# This function avoids having to check this all the time\n",
    "def ineq( xi, pi, xj, pj ):\n",
    "    if xi * pj > xj * pi:\n",
    "        return ( xi / pi ) / ( xj / pj ) - 1\n",
    "    else:\n",
    "        return ineq( xj, pj, xi, pi )"
   ]
  },
  {
   "cell_type": "code",
   "execution_count": 7,
   "metadata": {},
   "outputs": [
    {
     "name": "stdout",
     "output_type": "stream",
     "text": [
      "Move one seat from 0 to 1 giving: [29, 3, 1, 1, 1, 1]\n",
      "Move one seat from 0 to 2 giving: [28, 3, 2, 1, 1, 1]\n",
      "Move one seat from 0 to 3 giving: [27, 3, 2, 2, 1, 1]\n",
      "Move one seat from 0 to 4 giving: [26, 3, 2, 2, 2, 1]\n",
      "Move one seat from 0 to 5 giving: [25, 3, 2, 2, 2, 2]\n",
      "Move one seat from 4 to 1 giving: [25, 4, 2, 2, 1, 2]\n",
      "Move one seat from 5 to 1 giving: [25, 5, 2, 2, 1, 1]\n",
      "Move one seat from 0 to 1 giving: [24, 6, 2, 2, 1, 1]\n",
      "Move one seat from 0 to 2 giving: [23, 6, 3, 2, 1, 1]\n",
      "Move one seat from 0 to 3 giving: [22, 6, 3, 3, 1, 1]\n",
      "Move one seat from 0 to 4 giving: [21, 6, 3, 3, 2, 1]\n",
      "Move one seat from 0 to 5 giving: [20, 6, 3, 3, 2, 2]\n",
      "Move one seat from 1 to 2 giving: [20, 5, 4, 3, 2, 2]\n",
      "Move one seat from 5 to 1 giving: [20, 6, 4, 3, 2, 1]\n",
      "Move one seat from 0 to 1 giving: [19, 7, 4, 3, 2, 1]\n",
      "Move one seat from 0 to 2 giving: [18, 7, 5, 3, 2, 1]\n",
      "Move one seat from 0 to 3 giving: [17, 7, 5, 4, 2, 1]\n",
      "Move one seat from 0 to 4 giving: [16, 7, 5, 4, 3, 1]\n",
      "Move one seat from 0 to 5 giving: [15, 7, 5, 4, 3, 2]\n",
      "Move one seat from 5 to 1 giving: [15, 8, 5, 4, 3, 1]\n",
      "Move one seat from 0 to 1 giving: [14, 9, 5, 4, 3, 1]\n",
      "Move one seat from 0 to 2 giving: [13, 9, 6, 4, 3, 1]\n",
      "Move one seat from 0 to 3 giving: [12, 9, 6, 5, 3, 1]\n",
      "Move one seat from 0 to 4 giving: [11, 9, 6, 5, 4, 1]\n",
      "Move one seat from 1 to 2 giving: [11, 8, 7, 5, 4, 1]\n",
      "Move one seat from 4 to 1 giving: [11, 9, 7, 5, 3, 1]\n",
      "Move one seat from 0 to 1 giving: [10, 10, 7, 5, 3, 1]\n",
      "Move one seat from 1 to 2 giving: [10, 9, 8, 5, 3, 1]\n",
      "Move one seat from 2 to 3 giving: [10, 9, 7, 6, 3, 1]\n",
      "Final apportionment: [10, 9, 7, 6, 3, 1]\n"
     ]
    }
   ],
   "source": [
    "# Repeatedly making transfers, as long as this reduces the representational inequality\n",
    "updated = True\n",
    "\n",
    "while updated:\n",
    "    \n",
    "    updated = False\n",
    "    \n",
    "    for i in range(n):\n",
    "        \n",
    "        for j in range(n):\n",
    "            \n",
    "            if i != j and x[i] > 1: # if x[i]=1, then swap will cause division by zero\n",
    "            \n",
    "                current = ineq( x[i] ,p[i], x[j], p[j] )  \n",
    "                after = ineq( x[i]-1, p[i], x[j]+1, p[j] ) \n",
    "                \n",
    "                if current > after:\n",
    "                    \n",
    "                    x[i] -= 1\n",
    "                    x[j] += 1\n",
    "\n",
    "                    print( \"Move one seat from\",i,\"to\",j,\"giving:\", x )\n",
    "                    updated = True\n",
    "\n",
    "print( \"Final apportionment:\", x )"
   ]
  },
  {
   "cell_type": "code",
   "execution_count": null,
   "metadata": {},
   "outputs": [],
   "source": []
  }
 ],
 "metadata": {
  "kernelspec": {
   "display_name": "Python 3",
   "language": "python",
   "name": "python3"
  },
  "language_info": {
   "codemirror_mode": {
    "name": "ipython",
    "version": 3
   },
   "file_extension": ".py",
   "mimetype": "text/x-python",
   "name": "python",
   "nbconvert_exporter": "python",
   "pygments_lexer": "ipython3",
   "version": "3.7.10"
  }
 },
 "nbformat": 4,
 "nbformat_minor": 4
}
