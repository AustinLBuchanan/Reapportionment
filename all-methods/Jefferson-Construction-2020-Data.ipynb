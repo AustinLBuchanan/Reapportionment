{
 "cells": [
  {
   "cell_type": "code",
   "execution_count": 1,
   "metadata": {},
   "outputs": [],
   "source": [
    "population_2020 = {\n",
    "'California': 39576757,\n",
    "'Texas': 29183290,\n",
    "'Florida': 21570527,\n",
    "'New York': 20215751,\n",
    "'Pennsylvania': 13011844,\n",
    "'Illinois': 12822739,\n",
    "'Ohio': 11808848,\n",
    "'Georgia': 10725274,\n",
    "'North Carolina': 10453948,\n",
    "'Michigan': 10084442,\n",
    "'New Jersey': 9294493,\n",
    "'Virginia': 8654542,\n",
    "'Washington': 7715946,\n",
    "'Arizona': 7158923,\n",
    "'Massachusetts': 7033469,\n",
    "'Tennessee': 6916897,\n",
    "'Indiana': 6790280,\n",
    "'Maryland': 6185278,\n",
    "'Missouri': 6160281,\n",
    "'Wisconsin': 5897473,\n",
    "'Colorado': 5782171,\n",
    "'Minnesota': 5709752,\n",
    "'South Carolina': 5124712,\n",
    "'Alabama': 5030053,\n",
    "'Louisiana': 4661468,\n",
    "'Kentucky': 4509342,\n",
    "'Oregon': 4241500,\n",
    "'Oklahoma': 3963516,\n",
    "'Connecticut': 3608298,\n",
    "'Utah': 3275252,\n",
    "'Iowa': 3192406,\n",
    "'Nevada': 3108462,\n",
    "'Arkansas': 3013756,\n",
    "'Mississippi': 2963914,\n",
    "'Kansas': 2940865,\n",
    "'New Mexico': 2120220,\n",
    "'Nebraska': 1963333,\n",
    "'Idaho': 1841377,\n",
    "'West Virginia': 1795045,\n",
    "'Hawaii': 1460137,\n",
    "'New Hampshire': 1379089,\n",
    "'Maine': 1363582,\n",
    "'Rhode Island': 1098163,\n",
    "'Montana': 1085407,\n",
    "'Delaware': 990837,\n",
    "'South Dakota': 887770,\n",
    "'North Dakota': 779702,\n",
    "'Alaska': 736081,\n",
    "'Vermont': 643503,\n",
    "'Wyoming': 577719\n",
    "}"
   ]
  },
  {
   "cell_type": "code",
   "execution_count": 2,
   "metadata": {},
   "outputs": [
    {
     "name": "stdout",
     "output_type": "stream",
     "text": [
      "state \t\t population \t quota\n",
      "California \t 39576757 \t 51.99471691802329\n",
      "Texas \t\t 29183290 \t 38.34010205248955\n",
      "Florida \t 21570527 \t 28.33868993201182\n",
      "New York \t 20215751 \t 26.55882720583312\n",
      "Pennsylvania \t 13011844 \t 17.094557428277408\n",
      "Illinois \t 12822739 \t 16.846117139377974\n",
      "Ohio \t\t 11808848 \t 15.51409856264791\n",
      "Georgia \t 10725274 \t 14.090532619896962\n",
      "North Carolina \t 10453948 \t 13.734072929111797\n",
      "Michigan \t 10084442 \t 13.248627396788086\n",
      "New Jersey \t 9294493 \t 12.210816880007352\n",
      "Virginia \t 8654542 \t 11.370069087397514\n",
      "Washington \t 7715946 \t 10.136970748380273\n",
      "Arizona \t 7158923 \t 9.405171192347218\n",
      "Massachusetts \t 7033469 \t 9.240353614791944\n",
      "Tennessee \t 6916897 \t 9.087204933595862\n",
      "Indiana \t 6790280 \t 8.920859442680339\n",
      "Maryland \t 6185278 \t 8.126026563249669\n",
      "Missouri \t 6160281 \t 8.093186279271883\n",
      "Wisconsin \t 5897473 \t 7.747917272925763\n",
      "Colorado \t 5782171 \t 7.59643707837415\n",
      "Minnesota \t 5709752 \t 7.501295240338094\n",
      "South Carolina \t 5124712 \t 6.732687817912847\n",
      "Alabama \t 5030053 \t 6.608327757063416\n",
      "Louisiana \t 4661468 \t 6.124092205999198\n",
      "Kentucky \t 4509342 \t 5.924233781372057\n",
      "Oregon \t\t 4241500 \t 5.572351261822584\n",
      "Oklahoma \t 3963516 \t 5.207144496959567\n",
      "Connecticut \t 3608298 \t 4.740470096270638\n",
      "Utah \t\t 3275252 \t 4.302924582102309\n",
      "Iowa \t\t 3192406 \t 4.1940840745844605\n",
      "Nevada \t\t 3108462 \t 4.083801048692103\n",
      "Arkansas \t 3013756 \t 3.959379240699136\n",
      "Mississippi \t 2963914 \t 3.8938983656332957\n",
      "Kansas \t\t 2940865 \t 3.8636173036897032\n",
      "New Mexico \t 2120220 \t 2.785479333335254\n",
      "Nebraska \t 1963333 \t 2.579366054444871\n",
      "Idaho \t\t 1841377 \t 2.41914404089145\n",
      "West Virginia \t 1795045 \t 2.3582744950555985\n",
      "Hawaii \t\t 1460137 \t 1.918282742988057\n",
      "New Hampshire \t 1379089 \t 1.8118043921526927\n",
      "Maine \t\t 1363582 \t 1.7914317760930245\n",
      "Rhode Island \t 1098163 \t 1.4427325188581575\n",
      "Montana \t 1085407 \t 1.4259740813488309\n",
      "Delaware \t 990837 \t 1.3017309459414133\n",
      "South Dakota \t 887770 \t 1.166324715244191\n",
      "North Dakota \t 779702 \t 1.0243483257209933\n",
      "Alaska \t\t 736081 \t 0.9670404076750277\n",
      "Vermont \t 643503 \t 0.8454143001383045\n",
      "Wyoming \t 577719 \t 0.7589893194928402\n"
     ]
    }
   ],
   "source": [
    "p = population_2020\n",
    "\n",
    "# state names\n",
    "states = p.keys()\n",
    "\n",
    "# total country population\n",
    "p_total = sum( p[state] for state in states )\n",
    "\n",
    "# total number of seats to distribute\n",
    "k = 435\n",
    "\n",
    "# state quotas\n",
    "q = { state: k * p[state] / p_total for state in states }\n",
    "\n",
    "print(\"state \\t\\t population \\t quota\")\n",
    "for state in states:\n",
    "    if len(state)<=6:\n",
    "        print(state,\"\\t\\t\",p[state],\"\\t\",q[state])\n",
    "    else:\n",
    "        print(state,\"\\t\",p[state],\"\\t\",q[state])"
   ]
  },
  {
   "cell_type": "code",
   "execution_count": 3,
   "metadata": {},
   "outputs": [
    {
     "name": "stdout",
     "output_type": "stream",
     "text": [
      "With divisor 761168.8137931034 Jefferson distributes # seats: 410\n",
      "Need to distribute this many more seats: 25\n"
     ]
    }
   ],
   "source": [
    "# First, let's try the usual divisor\n",
    "d = p_total / k\n",
    "\n",
    "import math\n",
    "\n",
    "# Jefferson's method is to divide the populations by d, and then round down \n",
    "x = {state: math.floor( p[state] / d ) for state in states }\n",
    "\n",
    "print( \"With divisor\", d, \"Jefferson distributes # seats:\", sum( x[state] for state in states) )\n",
    "print( \"Need to distribute this many more seats:\", k - sum( x[state] for state in states) )"
   ]
  },
  {
   "cell_type": "code",
   "execution_count": 4,
   "metadata": {},
   "outputs": [
    {
     "name": "stdout",
     "output_type": "stream",
     "text": [
      "With divisor 720168.8137931034 Jefferson distributes # seats: 435\n",
      "Need to distribute this many more seats: 0\n"
     ]
    }
   ],
   "source": [
    "# Jefferson's method says to adjust the divisor so that the rounding down gives exactly k seats.\n",
    "\n",
    "# With binary search, we can find a \"Goldilocks\" value for the divisor of\n",
    "d = p_total / k - 41000\n",
    "\n",
    "x = {state: math.floor( p[state] / d ) for state in states }\n",
    "\n",
    "print( \"With divisor\", d, \"Jefferson distributes # seats:\", sum( x[state] for state in states) )\n",
    "print( \"Need to distribute this many more seats:\", k - sum( x[state] for state in states) )"
   ]
  },
  {
   "cell_type": "code",
   "execution_count": 5,
   "metadata": {},
   "outputs": [
    {
     "name": "stdout",
     "output_type": "stream",
     "text": [
      "\n",
      "state \t\t quota \t\t\t apportionment\n",
      "California \t 51.99471691802329 \t 54\n",
      "Texas \t\t 38.34010205248955 \t 40\n",
      "Florida \t 28.33868993201182 \t 29\n",
      "New York \t 26.55882720583312 \t 28\n",
      "Pennsylvania \t 17.094557428277408 \t 18\n",
      "Illinois \t 16.846117139377974 \t 17\n",
      "Ohio \t\t 15.51409856264791 \t 16\n",
      "Georgia \t 14.090532619896962 \t 14\n",
      "North Carolina \t 13.734072929111797 \t 14\n",
      "Michigan \t 13.248627396788086 \t 14\n",
      "New Jersey \t 12.210816880007352 \t 12\n",
      "Virginia \t 11.370069087397514 \t 12\n",
      "Washington \t 10.136970748380273 \t 10\n",
      "Arizona \t 9.405171192347218 \t 9\n",
      "Massachusetts \t 9.240353614791944 \t 9\n",
      "Tennessee \t 9.087204933595862 \t 9\n",
      "Indiana \t 8.920859442680339 \t 9\n",
      "Maryland \t 8.126026563249669 \t 8\n",
      "Missouri \t 8.093186279271883 \t 8\n",
      "Wisconsin \t 7.747917272925763 \t 8\n",
      "Colorado \t 7.59643707837415 \t 8\n",
      "Minnesota \t 7.501295240338094 \t 7\n",
      "South Carolina \t 6.732687817912847 \t 7\n",
      "Alabama \t 6.608327757063416 \t 6\n",
      "Louisiana \t 6.124092205999198 \t 6\n",
      "Kentucky \t 5.924233781372057 \t 6\n",
      "Oregon \t\t 5.572351261822584 \t 5\n",
      "Oklahoma \t 5.207144496959567 \t 5\n",
      "Connecticut \t 4.740470096270638 \t 5\n",
      "Utah \t\t 4.302924582102309 \t 4\n",
      "Iowa \t\t 4.1940840745844605 \t 4\n",
      "Nevada \t\t 4.083801048692103 \t 4\n",
      "Arkansas \t 3.959379240699136 \t 4\n",
      "Mississippi \t 3.8938983656332957 \t 4\n",
      "Kansas \t\t 3.8636173036897032 \t 4\n",
      "New Mexico \t 2.785479333335254 \t 2\n",
      "Nebraska \t 2.579366054444871 \t 2\n",
      "Idaho \t\t 2.41914404089145 \t 2\n",
      "West Virginia \t 2.3582744950555985 \t 2\n",
      "Hawaii \t\t 1.918282742988057 \t 2\n",
      "New Hampshire \t 1.8118043921526927 \t 1\n",
      "Maine \t\t 1.7914317760930245 \t 1\n",
      "Rhode Island \t 1.4427325188581575 \t 1\n",
      "Montana \t 1.4259740813488309 \t 1\n",
      "Delaware \t 1.3017309459414133 \t 1\n",
      "South Dakota \t 1.166324715244191 \t 1\n",
      "North Dakota \t 1.0243483257209933 \t 1\n",
      "Alaska \t\t 0.9670404076750277 \t 1\n",
      "Vermont \t 0.8454143001383045 \t 0\n",
      "Wyoming \t 0.7589893194928402 \t 0\n"
     ]
    }
   ],
   "source": [
    "print(\"\\nstate \\t\\t quota \\t\\t\\t apportionment\")\n",
    "for state in states:\n",
    "    if len(state)<=6:\n",
    "        print(state,\"\\t\\t\",q[state],\"\\t\",x[state])\n",
    "    else:\n",
    "        print(state,\"\\t\",q[state],\"\\t\",x[state])"
   ]
  },
  {
   "cell_type": "code",
   "execution_count": 6,
   "metadata": {},
   "outputs": [
    {
     "name": "stdout",
     "output_type": "stream",
     "text": [
      "With divisor 761168.8137931034 (adjusted) Jefferson distributes # seats: 413\n",
      "Need to distribute this many more seats: 22\n"
     ]
    }
   ],
   "source": [
    "# Jefferson gave zero seats to Vermont and wyoming, which is not allowed.\n",
    "\n",
    "#  The fix is adjust the rounding definition. \n",
    "#  Instead of floor(p[i]/d), use max(1,floor(p[i]/d))\n",
    "\n",
    "# Let's again try the usual divisor\n",
    "d = p_total / k\n",
    "\n",
    "x = { state: max( 1, math.floor( p[state] / d ) ) for state in states }\n",
    "\n",
    "print( \"With divisor\", d, \"(adjusted) Jefferson distributes # seats:\", sum( x[state] for state in states) )\n",
    "print( \"Need to distribute this many more seats:\", k - sum( x[state] for state in states) )"
   ]
  },
  {
   "cell_type": "code",
   "execution_count": 7,
   "metadata": {},
   "outputs": [
    {
     "name": "stdout",
     "output_type": "stream",
     "text": [
      "With divisor 721568.8137931034 (adjusted) Jefferson distributes # seats: 435\n",
      "Need to distribute this many more seats: 0\n"
     ]
    }
   ],
   "source": [
    "# With binary search, we can find a \"Goldilocks\" value for the divisor of\n",
    "d = p_total / k - 39600\n",
    "\n",
    "x = { state: max( 1, math.floor( p[state] / d ) ) for state in states }\n",
    "\n",
    "print( \"With divisor\", d, \"(adjusted) Jefferson distributes # seats:\", sum( x[state] for state in states) )\n",
    "print( \"Need to distribute this many more seats:\", k - sum( x[state] for state in states) )"
   ]
  },
  {
   "cell_type": "code",
   "execution_count": 8,
   "metadata": {},
   "outputs": [
    {
     "name": "stdout",
     "output_type": "stream",
     "text": [
      "\n",
      "state \t\t quota \t\t\t apportionment\n",
      "California \t 51.99471691802329 \t 54\n",
      "Texas \t\t 38.34010205248955 \t 40\n",
      "Florida \t 28.33868993201182 \t 29\n",
      "New York \t 26.55882720583312 \t 28\n",
      "Pennsylvania \t 17.094557428277408 \t 18\n",
      "Illinois \t 16.846117139377974 \t 17\n",
      "Ohio \t\t 15.51409856264791 \t 16\n",
      "Georgia \t 14.090532619896962 \t 14\n",
      "North Carolina \t 13.734072929111797 \t 14\n",
      "Michigan \t 13.248627396788086 \t 13\n",
      "New Jersey \t 12.210816880007352 \t 12\n",
      "Virginia \t 11.370069087397514 \t 11\n",
      "Washington \t 10.136970748380273 \t 10\n",
      "Arizona \t 9.405171192347218 \t 9\n",
      "Massachusetts \t 9.240353614791944 \t 9\n",
      "Tennessee \t 9.087204933595862 \t 9\n",
      "Indiana \t 8.920859442680339 \t 9\n",
      "Maryland \t 8.126026563249669 \t 8\n",
      "Missouri \t 8.093186279271883 \t 8\n",
      "Wisconsin \t 7.747917272925763 \t 8\n",
      "Colorado \t 7.59643707837415 \t 8\n",
      "Minnesota \t 7.501295240338094 \t 7\n",
      "South Carolina \t 6.732687817912847 \t 7\n",
      "Alabama \t 6.608327757063416 \t 6\n",
      "Louisiana \t 6.124092205999198 \t 6\n",
      "Kentucky \t 5.924233781372057 \t 6\n",
      "Oregon \t\t 5.572351261822584 \t 5\n",
      "Oklahoma \t 5.207144496959567 \t 5\n",
      "Connecticut \t 4.740470096270638 \t 5\n",
      "Utah \t\t 4.302924582102309 \t 4\n",
      "Iowa \t\t 4.1940840745844605 \t 4\n",
      "Nevada \t\t 4.083801048692103 \t 4\n",
      "Arkansas \t 3.959379240699136 \t 4\n",
      "Mississippi \t 3.8938983656332957 \t 4\n",
      "Kansas \t\t 3.8636173036897032 \t 4\n",
      "New Mexico \t 2.785479333335254 \t 2\n",
      "Nebraska \t 2.579366054444871 \t 2\n",
      "Idaho \t\t 2.41914404089145 \t 2\n",
      "West Virginia \t 2.3582744950555985 \t 2\n",
      "Hawaii \t\t 1.918282742988057 \t 2\n",
      "New Hampshire \t 1.8118043921526927 \t 1\n",
      "Maine \t\t 1.7914317760930245 \t 1\n",
      "Rhode Island \t 1.4427325188581575 \t 1\n",
      "Montana \t 1.4259740813488309 \t 1\n",
      "Delaware \t 1.3017309459414133 \t 1\n",
      "South Dakota \t 1.166324715244191 \t 1\n",
      "North Dakota \t 1.0243483257209933 \t 1\n",
      "Alaska \t\t 0.9670404076750277 \t 1\n",
      "Vermont \t 0.8454143001383045 \t 1\n",
      "Wyoming \t 0.7589893194928402 \t 1\n"
     ]
    }
   ],
   "source": [
    "print(\"\\nstate \\t\\t quota \\t\\t\\t apportionment\")\n",
    "for state in states:\n",
    "    if len(state)<=6:\n",
    "        print(state,\"\\t\\t\",q[state],\"\\t\",x[state])\n",
    "    else:\n",
    "        print(state,\"\\t\",q[state],\"\\t\",x[state])"
   ]
  },
  {
   "cell_type": "code",
   "execution_count": null,
   "metadata": {},
   "outputs": [],
   "source": []
  }
 ],
 "metadata": {
  "kernelspec": {
   "display_name": "Python 3",
   "language": "python",
   "name": "python3"
  },
  "language_info": {
   "codemirror_mode": {
    "name": "ipython",
    "version": 3
   },
   "file_extension": ".py",
   "mimetype": "text/x-python",
   "name": "python",
   "nbconvert_exporter": "python",
   "pygments_lexer": "ipython3",
   "version": "3.7.10"
  }
 },
 "nbformat": 4,
 "nbformat_minor": 4
}
