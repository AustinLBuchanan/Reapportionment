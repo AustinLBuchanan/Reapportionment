{
 "cells": [
  {
   "cell_type": "code",
   "execution_count": 1,
   "metadata": {},
   "outputs": [
    {
     "name": "stdout",
     "output_type": "stream",
     "text": [
      "Populations: [1099845, 1085297, 1009141]\n",
      "Quotas: [12.395401409330356, 12.23144348825699, 11.373155102412655]\n"
     ]
    }
   ],
   "source": [
    "# An application of the Huntington-Hill method to the NC \"Limbo Bubble\"\n",
    "# https://storymaps.arcgis.com/stories/d4ae790d9c0b4a83b2b40251e5d66228\n",
    "\n",
    "# county cluster populations\n",
    "p = [1099845, 1085297, 1009141]\n",
    "\n",
    "# number of clusters\n",
    "n = len(p)\n",
    "\n",
    "# total country population\n",
    "p_total = sum( p[i] for i in range(n) )\n",
    "\n",
    "# total number of seats to distribute\n",
    "k = 36\n",
    "\n",
    "# cluster quotas\n",
    "q = [ k * p[i] / p_total for i in range(n) ]\n",
    "\n",
    "print(\"Populations:\",p)\n",
    "print(\"Quotas:\",q)"
   ]
  },
  {
   "cell_type": "code",
   "execution_count": 2,
   "metadata": {},
   "outputs": [],
   "source": [
    "import math\n",
    "\n",
    "# What is the priority score for a cluster to get a given seat?\n",
    "def seat_priority(cluster_population, seat_number):\n",
    "    if seat_number == 1:\n",
    "        return float('inf')\n",
    "    elif seat_number>=2 and isinstance(seat_number,int):\n",
    "        return cluster_population / math.sqrt(seat_number*(seat_number-1))\n",
    "    else:\n",
    "        print(\"ERROR: not allowed to have seat_number =\",seat_number)"
   ]
  },
  {
   "cell_type": "code",
   "execution_count": 3,
   "metadata": {},
   "outputs": [],
   "source": [
    "# M = an upper bound on # seats a cluster could get\n",
    "M = 15 \n",
    "\n",
    "# triples: (cluster, seat number, priority of this seat)\n",
    "cluster_seat_priority = [ (cluster, seat, seat_priority(p[cluster], seat) ) for cluster in range(n) for seat in range(1,M+1) ]"
   ]
  },
  {
   "cell_type": "code",
   "execution_count": 4,
   "metadata": {},
   "outputs": [],
   "source": [
    "def sort_by_third(val):\n",
    "    return val[2]\n",
    "\n",
    "cluster_seat_priority.sort(key=sort_by_third,reverse=True)"
   ]
  },
  {
   "cell_type": "code",
   "execution_count": 5,
   "metadata": {},
   "outputs": [
    {
     "name": "stdout",
     "output_type": "stream",
     "text": [
      "# 1 (0, 1, inf)\n",
      "# 2 (1, 1, inf)\n",
      "# 3 (2, 1, inf)\n",
      "# 4 (0, 2, 777707.8577541183)\n",
      "# 5 (1, 2, 767420.8683014164)\n",
      "# 6 (2, 2, 713570.4442733737)\n",
      "# 7 (0, 3, 449009.84102522745)\n",
      "# 8 (1, 3, 443070.6448955592)\n",
      "# 9 (2, 3, 411980.0880869932)\n",
      "# 10 (0, 4, 317497.903408432)\n",
      "# 11 (1, 4, 313298.25755034667)\n",
      "# 12 (2, 4, 291313.9140001441)\n",
      "# 13 (0, 5, 245932.81847132562)\n",
      "# 14 (1, 5, 242679.7867776589)\n",
      "# 15 (2, 5, 225650.78748821153)\n",
      "# 16 (0, 6, 200803.30541975648)\n",
      "# 17 (1, 6, 198147.2161642281)\n",
      "# 18 (2, 6, 184243.0964677736)\n",
      "# 19 (0, 7, 169709.76793905697)\n",
      "# 20 (1, 7, 167464.96280380845)\n",
      "# 21 (2, 7, 155713.8368840954)\n",
      "# 22 (0, 8, 146972.97030558522)\n",
      "# 23 (1, 8, 145028.91203191422)\n",
      "# 24 (2, 8, 134852.13846237294)\n",
      "# 25 (0, 9, 129617.97629235307)\n",
      "# 26 (1, 9, 127903.4780502361)\n",
      "# 27 (2, 9, 118928.40737889563)\n",
      "# 28 (0, 10, 115933.84243826303)\n",
      "# 29 (1, 10, 114400.34859159205)\n",
      "# 30 (2, 10, 106372.80134199928)\n",
      "# 31 (0, 11, 104866.10614688185)\n",
      "# 32 (1, 11, 103479.00877204737)\n",
      "# 33 (2, 11, 96217.81907738863)\n",
      "# 34 (0, 12, 95729.21975729725)\n",
      "# 35 (1, 12, 94462.9788878755)\n",
      "# 36 (0, 13, 88058.07466087803)\n"
     ]
    }
   ],
   "source": [
    "# print the k seats, by priority\n",
    "for j in range(k):\n",
    "    print(\"#\",j+1,cluster_seat_priority[j])"
   ]
  },
  {
   "cell_type": "code",
   "execution_count": 6,
   "metadata": {},
   "outputs": [
    {
     "name": "stdout",
     "output_type": "stream",
     "text": [
      "# 37 (2, 12, 87834.44990439444)\n",
      "# 38 (1, 13, 86893.30247009982)\n",
      "# 39 (0, 14, 81525.93546831288)\n",
      "# 40 (2, 13, 80795.94262950972)\n",
      "# 41 (1, 14, 80447.56596243431)\n"
     ]
    }
   ],
   "source": [
    "# If there were 5 more seats to give, who would get them?\n",
    "for j in range(k,k+5):\n",
    "    print(\"#\",j+1,cluster_seat_priority[j])"
   ]
  },
  {
   "cell_type": "code",
   "execution_count": 7,
   "metadata": {},
   "outputs": [
    {
     "name": "stdout",
     "output_type": "stream",
     "text": [
      "Huntington-Hill apportionment: [13, 12, 11]\n"
     ]
    }
   ],
   "source": [
    "# How many seats does each cluster get?\n",
    "x = [ 0 for i in range(n) ]\n",
    "for j in range(k):\n",
    "    (cluster,seat,priority) = cluster_seat_priority[j]\n",
    "    x[cluster] = seat\n",
    "    \n",
    "print( \"Huntington-Hill apportionment:\", x )"
   ]
  },
  {
   "cell_type": "code",
   "execution_count": null,
   "metadata": {},
   "outputs": [],
   "source": []
  }
 ],
 "metadata": {
  "kernelspec": {
   "display_name": "Python 3",
   "language": "python",
   "name": "python3"
  },
  "language_info": {
   "codemirror_mode": {
    "name": "ipython",
    "version": 3
   },
   "file_extension": ".py",
   "mimetype": "text/x-python",
   "name": "python",
   "nbconvert_exporter": "python",
   "pygments_lexer": "ipython3",
   "version": "3.7.10"
  }
 },
 "nbformat": 4,
 "nbformat_minor": 4
}
